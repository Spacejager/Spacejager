{
 "cells": [
  {
   "cell_type": "markdown",
   "id": "3036a6af",
   "metadata": {},
   "source": [
    "Week05"
   ]
  },
  {
   "cell_type": "markdown",
   "id": "90658d2d",
   "metadata": {},
   "source": [
    "#17 Resampling pada data deret waktu(time series data)"
   ]
  },
  {
   "cell_type": "markdown",
   "id": "f8f1f3d9",
   "metadata": {},
   "source": [
    "Import Modules"
   ]
  },
  {
   "cell_type": "code",
   "execution_count": 1,
   "id": "54262afe",
   "metadata": {},
   "outputs": [
    {
     "name": "stdout",
     "output_type": "stream",
     "text": [
      "1.3.4\n",
      "1.20.3\n"
     ]
    }
   ],
   "source": [
    "import pandas as pd\n",
    "import numpy as np\n",
    "\n",
    "print(pd.__version__)\n",
    "print(np.__version__)"
   ]
  },
  {
   "cell_type": "code",
   "execution_count": 3,
   "id": "0198eb49",
   "metadata": {},
   "outputs": [
    {
     "name": "stderr",
     "output_type": "stream",
     "text": [
      "D:\\Anaconda\\lib\\site-packages\\pandas\\util\\__init__.py:15: FutureWarning: pandas.util.testing is deprecated. Use the functions in the public API at pandas.testing instead.\n",
      "  import pandas.util.testing\n"
     ]
    },
    {
     "data": {
      "text/html": [
       "<div>\n",
       "<style scoped>\n",
       "    .dataframe tbody tr th:only-of-type {\n",
       "        vertical-align: middle;\n",
       "    }\n",
       "\n",
       "    .dataframe tbody tr th {\n",
       "        vertical-align: top;\n",
       "    }\n",
       "\n",
       "    .dataframe thead th {\n",
       "        text-align: right;\n",
       "    }\n",
       "</style>\n",
       "<table border=\"1\" class=\"dataframe\">\n",
       "  <thead>\n",
       "    <tr style=\"text-align: right;\">\n",
       "      <th></th>\n",
       "      <th>col1</th>\n",
       "      <th>cols2</th>\n",
       "    </tr>\n",
       "  </thead>\n",
       "  <tbody>\n",
       "    <tr>\n",
       "      <th>2000-01-01 00:00:00</th>\n",
       "      <td>13</td>\n",
       "      <td>19</td>\n",
       "    </tr>\n",
       "    <tr>\n",
       "      <th>2000-01-01 01:00:00</th>\n",
       "      <td>18</td>\n",
       "      <td>8</td>\n",
       "    </tr>\n",
       "    <tr>\n",
       "      <th>2000-01-01 02:00:00</th>\n",
       "      <td>1</td>\n",
       "      <td>2</td>\n",
       "    </tr>\n",
       "    <tr>\n",
       "      <th>2000-01-01 03:00:00</th>\n",
       "      <td>1</td>\n",
       "      <td>18</td>\n",
       "    </tr>\n",
       "    <tr>\n",
       "      <th>2000-01-01 04:00:00</th>\n",
       "      <td>17</td>\n",
       "      <td>9</td>\n",
       "    </tr>\n",
       "    <tr>\n",
       "      <th>...</th>\n",
       "      <td>...</td>\n",
       "      <td>...</td>\n",
       "    </tr>\n",
       "    <tr>\n",
       "      <th>2000-12-30 19:00:00</th>\n",
       "      <td>6</td>\n",
       "      <td>18</td>\n",
       "    </tr>\n",
       "    <tr>\n",
       "      <th>2000-12-30 20:00:00</th>\n",
       "      <td>14</td>\n",
       "      <td>3</td>\n",
       "    </tr>\n",
       "    <tr>\n",
       "      <th>2000-12-30 21:00:00</th>\n",
       "      <td>14</td>\n",
       "      <td>12</td>\n",
       "    </tr>\n",
       "    <tr>\n",
       "      <th>2000-12-30 22:00:00</th>\n",
       "      <td>18</td>\n",
       "      <td>4</td>\n",
       "    </tr>\n",
       "    <tr>\n",
       "      <th>2000-12-30 23:00:00</th>\n",
       "      <td>8</td>\n",
       "      <td>13</td>\n",
       "    </tr>\n",
       "  </tbody>\n",
       "</table>\n",
       "<p>8760 rows × 2 columns</p>\n",
       "</div>"
      ],
      "text/plain": [
       "                     col1  cols2\n",
       "2000-01-01 00:00:00    13     19\n",
       "2000-01-01 01:00:00    18      8\n",
       "2000-01-01 02:00:00     1      2\n",
       "2000-01-01 03:00:00     1     18\n",
       "2000-01-01 04:00:00    17      9\n",
       "...                   ...    ...\n",
       "2000-12-30 19:00:00     6     18\n",
       "2000-12-30 20:00:00    14      3\n",
       "2000-12-30 21:00:00    14     12\n",
       "2000-12-30 22:00:00    18      4\n",
       "2000-12-30 23:00:00     8     13\n",
       "\n",
       "[8760 rows x 2 columns]"
      ]
     },
     "execution_count": 3,
     "metadata": {},
     "output_type": "execute_result"
    }
   ],
   "source": [
    "n_rows = 365 * 24\n",
    "n_cols = 2\n",
    "cols = ['col1','cols2']\n",
    "\n",
    "df = pd.DataFrame(np.random.randint(1,20, size=(n_rows,n_cols)),\n",
    "                 columns=cols)\n",
    "\n",
    "df.index = pd.util.testing.makeDateIndex(n_rows, freq='H')\n",
    "df"
   ]
  },
  {
   "cell_type": "markdown",
   "id": "9b3ff302",
   "metadata": {},
   "source": [
    "Mencoba resamplng  data dengan interval monthly"
   ]
  },
  {
   "cell_type": "code",
   "execution_count": 4,
   "id": "24326cad",
   "metadata": {},
   "outputs": [
    {
     "data": {
      "text/html": [
       "<div>\n",
       "<style scoped>\n",
       "    .dataframe tbody tr th:only-of-type {\n",
       "        vertical-align: middle;\n",
       "    }\n",
       "\n",
       "    .dataframe tbody tr th {\n",
       "        vertical-align: top;\n",
       "    }\n",
       "\n",
       "    .dataframe thead th {\n",
       "        text-align: right;\n",
       "    }\n",
       "</style>\n",
       "<table border=\"1\" class=\"dataframe\">\n",
       "  <thead>\n",
       "    <tr style=\"text-align: right;\">\n",
       "      <th></th>\n",
       "      <th>col1</th>\n",
       "    </tr>\n",
       "  </thead>\n",
       "  <tbody>\n",
       "    <tr>\n",
       "      <th>2000-01-31</th>\n",
       "      <td>7489</td>\n",
       "    </tr>\n",
       "    <tr>\n",
       "      <th>2000-02-29</th>\n",
       "      <td>6754</td>\n",
       "    </tr>\n",
       "    <tr>\n",
       "      <th>2000-03-31</th>\n",
       "      <td>7494</td>\n",
       "    </tr>\n",
       "    <tr>\n",
       "      <th>2000-04-30</th>\n",
       "      <td>7207</td>\n",
       "    </tr>\n",
       "    <tr>\n",
       "      <th>2000-05-31</th>\n",
       "      <td>7470</td>\n",
       "    </tr>\n",
       "    <tr>\n",
       "      <th>2000-06-30</th>\n",
       "      <td>7208</td>\n",
       "    </tr>\n",
       "    <tr>\n",
       "      <th>2000-07-31</th>\n",
       "      <td>7455</td>\n",
       "    </tr>\n",
       "    <tr>\n",
       "      <th>2000-08-31</th>\n",
       "      <td>7409</td>\n",
       "    </tr>\n",
       "    <tr>\n",
       "      <th>2000-09-30</th>\n",
       "      <td>7130</td>\n",
       "    </tr>\n",
       "    <tr>\n",
       "      <th>2000-10-31</th>\n",
       "      <td>7587</td>\n",
       "    </tr>\n",
       "    <tr>\n",
       "      <th>2000-11-30</th>\n",
       "      <td>7135</td>\n",
       "    </tr>\n",
       "    <tr>\n",
       "      <th>2000-12-31</th>\n",
       "      <td>7268</td>\n",
       "    </tr>\n",
       "  </tbody>\n",
       "</table>\n",
       "</div>"
      ],
      "text/plain": [
       "            col1\n",
       "2000-01-31  7489\n",
       "2000-02-29  6754\n",
       "2000-03-31  7494\n",
       "2000-04-30  7207\n",
       "2000-05-31  7470\n",
       "2000-06-30  7208\n",
       "2000-07-31  7455\n",
       "2000-08-31  7409\n",
       "2000-09-30  7130\n",
       "2000-10-31  7587\n",
       "2000-11-30  7135\n",
       "2000-12-31  7268"
      ]
     },
     "execution_count": 4,
     "metadata": {},
     "output_type": "execute_result"
    }
   ],
   "source": [
    "df.resample('M')['col1'].sum().to_frame()"
   ]
  },
  {
   "cell_type": "markdown",
   "id": "3fb513bb",
   "metadata": {},
   "source": [
    "Resampling data dengan interval daily"
   ]
  },
  {
   "cell_type": "code",
   "execution_count": 5,
   "id": "84723fb1",
   "metadata": {},
   "outputs": [
    {
     "data": {
      "text/html": [
       "<div>\n",
       "<style scoped>\n",
       "    .dataframe tbody tr th:only-of-type {\n",
       "        vertical-align: middle;\n",
       "    }\n",
       "\n",
       "    .dataframe tbody tr th {\n",
       "        vertical-align: top;\n",
       "    }\n",
       "\n",
       "    .dataframe thead th {\n",
       "        text-align: right;\n",
       "    }\n",
       "</style>\n",
       "<table border=\"1\" class=\"dataframe\">\n",
       "  <thead>\n",
       "    <tr style=\"text-align: right;\">\n",
       "      <th></th>\n",
       "      <th>col1</th>\n",
       "    </tr>\n",
       "  </thead>\n",
       "  <tbody>\n",
       "    <tr>\n",
       "      <th>2000-01-01</th>\n",
       "      <td>269</td>\n",
       "    </tr>\n",
       "    <tr>\n",
       "      <th>2000-01-02</th>\n",
       "      <td>198</td>\n",
       "    </tr>\n",
       "    <tr>\n",
       "      <th>2000-01-03</th>\n",
       "      <td>253</td>\n",
       "    </tr>\n",
       "    <tr>\n",
       "      <th>2000-01-04</th>\n",
       "      <td>227</td>\n",
       "    </tr>\n",
       "    <tr>\n",
       "      <th>2000-01-05</th>\n",
       "      <td>255</td>\n",
       "    </tr>\n",
       "    <tr>\n",
       "      <th>...</th>\n",
       "      <td>...</td>\n",
       "    </tr>\n",
       "    <tr>\n",
       "      <th>2000-12-26</th>\n",
       "      <td>259</td>\n",
       "    </tr>\n",
       "    <tr>\n",
       "      <th>2000-12-27</th>\n",
       "      <td>241</td>\n",
       "    </tr>\n",
       "    <tr>\n",
       "      <th>2000-12-28</th>\n",
       "      <td>276</td>\n",
       "    </tr>\n",
       "    <tr>\n",
       "      <th>2000-12-29</th>\n",
       "      <td>212</td>\n",
       "    </tr>\n",
       "    <tr>\n",
       "      <th>2000-12-30</th>\n",
       "      <td>253</td>\n",
       "    </tr>\n",
       "  </tbody>\n",
       "</table>\n",
       "<p>365 rows × 1 columns</p>\n",
       "</div>"
      ],
      "text/plain": [
       "            col1\n",
       "2000-01-01   269\n",
       "2000-01-02   198\n",
       "2000-01-03   253\n",
       "2000-01-04   227\n",
       "2000-01-05   255\n",
       "...          ...\n",
       "2000-12-26   259\n",
       "2000-12-27   241\n",
       "2000-12-28   276\n",
       "2000-12-29   212\n",
       "2000-12-30   253\n",
       "\n",
       "[365 rows x 1 columns]"
      ]
     },
     "execution_count": 5,
     "metadata": {},
     "output_type": "execute_result"
    }
   ],
   "source": [
    "df.resample('D')['col1'].sum().to_frame()"
   ]
  },
  {
   "cell_type": "code",
   "execution_count": 6,
   "id": "1077c6d6",
   "metadata": {},
   "outputs": [
    {
     "name": "stdout",
     "output_type": "stream",
     "text": [
      "1.3.4\n",
      "1.20.3\n"
     ]
    }
   ],
   "source": [
    "import pandas as pd\n",
    "import numpy as np\n",
    "\n",
    "print(pd.__version__)\n",
    "print(np.__version__)"
   ]
  },
  {
   "cell_type": "markdown",
   "id": "f524b0a5",
   "metadata": {},
   "source": [
    "Membuat Data Frame dari Dictionary"
   ]
  },
  {
   "cell_type": "code",
   "execution_count": 7,
   "id": "96703cc7",
   "metadata": {},
   "outputs": [
    {
     "data": {
      "text/html": [
       "<div>\n",
       "<style scoped>\n",
       "    .dataframe tbody tr th:only-of-type {\n",
       "        vertical-align: middle;\n",
       "    }\n",
       "\n",
       "    .dataframe tbody tr th {\n",
       "        vertical-align: top;\n",
       "    }\n",
       "\n",
       "    .dataframe thead th {\n",
       "        text-align: right;\n",
       "    }\n",
       "</style>\n",
       "<table border=\"1\" class=\"dataframe\">\n",
       "  <thead>\n",
       "    <tr style=\"text-align: right;\">\n",
       "      <th></th>\n",
       "      <th>col1</th>\n",
       "      <th>col2</th>\n",
       "    </tr>\n",
       "  </thead>\n",
       "  <tbody>\n",
       "    <tr>\n",
       "      <th>0</th>\n",
       "      <td>1</td>\n",
       "      <td>5</td>\n",
       "    </tr>\n",
       "    <tr>\n",
       "      <th>1</th>\n",
       "      <td>2</td>\n",
       "      <td>6</td>\n",
       "    </tr>\n",
       "    <tr>\n",
       "      <th>2</th>\n",
       "      <td>3</td>\n",
       "      <td>7</td>\n",
       "    </tr>\n",
       "    <tr>\n",
       "      <th>3</th>\n",
       "      <td>4</td>\n",
       "      <td>8</td>\n",
       "    </tr>\n",
       "  </tbody>\n",
       "</table>\n",
       "</div>"
      ],
      "text/plain": [
       "   col1  col2\n",
       "0     1     5\n",
       "1     2     6\n",
       "2     3     7\n",
       "3     4     8"
      ]
     },
     "execution_count": 7,
     "metadata": {},
     "output_type": "execute_result"
    }
   ],
   "source": [
    "pd.DataFrame({'col1': [1,2,3,4],\n",
    "            'col2' :[5,6,7,8]})"
   ]
  },
  {
   "cell_type": "markdown",
   "id": "2e6c38dc",
   "metadata": {},
   "source": [
    "Membentuk Data Frame dari Numpy Array"
   ]
  },
  {
   "cell_type": "code",
   "execution_count": 8,
   "id": "162ed43d",
   "metadata": {},
   "outputs": [
    {
     "data": {
      "text/plain": [
       "array([[15, 15, 18],\n",
       "       [19, 13, 14],\n",
       "       [18, 12, 16],\n",
       "       [ 3, 14, 10],\n",
       "       [19, 17, 18]])"
      ]
     },
     "execution_count": 8,
     "metadata": {},
     "output_type": "execute_result"
    }
   ],
   "source": [
    "n_rows = 5\n",
    "n_cols = 3\n",
    "\n",
    "arr = np.random.randint(1, 20, size=(n_rows, n_cols))\n",
    "arr"
   ]
  },
  {
   "cell_type": "code",
   "execution_count": 9,
   "id": "ca17c542",
   "metadata": {},
   "outputs": [
    {
     "data": {
      "text/html": [
       "<div>\n",
       "<style scoped>\n",
       "    .dataframe tbody tr th:only-of-type {\n",
       "        vertical-align: middle;\n",
       "    }\n",
       "\n",
       "    .dataframe tbody tr th {\n",
       "        vertical-align: top;\n",
       "    }\n",
       "\n",
       "    .dataframe thead th {\n",
       "        text-align: right;\n",
       "    }\n",
       "</style>\n",
       "<table border=\"1\" class=\"dataframe\">\n",
       "  <thead>\n",
       "    <tr style=\"text-align: right;\">\n",
       "      <th></th>\n",
       "      <th>A</th>\n",
       "      <th>B</th>\n",
       "      <th>C</th>\n",
       "    </tr>\n",
       "  </thead>\n",
       "  <tbody>\n",
       "    <tr>\n",
       "      <th>0</th>\n",
       "      <td>15</td>\n",
       "      <td>15</td>\n",
       "      <td>18</td>\n",
       "    </tr>\n",
       "    <tr>\n",
       "      <th>1</th>\n",
       "      <td>19</td>\n",
       "      <td>13</td>\n",
       "      <td>14</td>\n",
       "    </tr>\n",
       "    <tr>\n",
       "      <th>2</th>\n",
       "      <td>18</td>\n",
       "      <td>12</td>\n",
       "      <td>16</td>\n",
       "    </tr>\n",
       "    <tr>\n",
       "      <th>3</th>\n",
       "      <td>3</td>\n",
       "      <td>14</td>\n",
       "      <td>10</td>\n",
       "    </tr>\n",
       "    <tr>\n",
       "      <th>4</th>\n",
       "      <td>19</td>\n",
       "      <td>17</td>\n",
       "      <td>18</td>\n",
       "    </tr>\n",
       "  </tbody>\n",
       "</table>\n",
       "</div>"
      ],
      "text/plain": [
       "    A   B   C\n",
       "0  15  15  18\n",
       "1  19  13  14\n",
       "2  18  12  16\n",
       "3   3  14  10\n",
       "4  19  17  18"
      ]
     },
     "execution_count": 9,
     "metadata": {},
     "output_type": "execute_result"
    }
   ],
   "source": [
    "pd.DataFrame(arr,columns=tuple('ABC'))"
   ]
  },
  {
   "cell_type": "markdown",
   "id": "01fb23d4",
   "metadata": {},
   "source": [
    "Membentuk Data Frame dengan Menggunakan method pandas.util.testing"
   ]
  },
  {
   "cell_type": "code",
   "execution_count": 10,
   "id": "021282f7",
   "metadata": {},
   "outputs": [
    {
     "data": {
      "text/html": [
       "<div>\n",
       "<style scoped>\n",
       "    .dataframe tbody tr th:only-of-type {\n",
       "        vertical-align: middle;\n",
       "    }\n",
       "\n",
       "    .dataframe tbody tr th {\n",
       "        vertical-align: top;\n",
       "    }\n",
       "\n",
       "    .dataframe thead th {\n",
       "        text-align: right;\n",
       "    }\n",
       "</style>\n",
       "<table border=\"1\" class=\"dataframe\">\n",
       "  <thead>\n",
       "    <tr style=\"text-align: right;\">\n",
       "      <th></th>\n",
       "      <th>A</th>\n",
       "      <th>B</th>\n",
       "      <th>C</th>\n",
       "      <th>D</th>\n",
       "    </tr>\n",
       "  </thead>\n",
       "  <tbody>\n",
       "    <tr>\n",
       "      <th>Jy9DZTAHAC</th>\n",
       "      <td>-0.527471</td>\n",
       "      <td>-2.554844</td>\n",
       "      <td>0.223262</td>\n",
       "      <td>1.862660</td>\n",
       "    </tr>\n",
       "    <tr>\n",
       "      <th>rkpzGoxyS2</th>\n",
       "      <td>1.003221</td>\n",
       "      <td>-0.134710</td>\n",
       "      <td>-0.448280</td>\n",
       "      <td>-0.817106</td>\n",
       "    </tr>\n",
       "    <tr>\n",
       "      <th>8kT5euU5zb</th>\n",
       "      <td>1.209106</td>\n",
       "      <td>-0.815250</td>\n",
       "      <td>0.837620</td>\n",
       "      <td>0.346454</td>\n",
       "    </tr>\n",
       "    <tr>\n",
       "      <th>ng7MgrUcst</th>\n",
       "      <td>-1.708337</td>\n",
       "      <td>2.280836</td>\n",
       "      <td>0.903916</td>\n",
       "      <td>-0.466756</td>\n",
       "    </tr>\n",
       "    <tr>\n",
       "      <th>EfetHwaVQg</th>\n",
       "      <td>-0.520978</td>\n",
       "      <td>0.233042</td>\n",
       "      <td>-0.089149</td>\n",
       "      <td>-0.452389</td>\n",
       "    </tr>\n",
       "  </tbody>\n",
       "</table>\n",
       "</div>"
      ],
      "text/plain": [
       "                   A         B         C         D\n",
       "Jy9DZTAHAC -0.527471 -2.554844  0.223262  1.862660\n",
       "rkpzGoxyS2  1.003221 -0.134710 -0.448280 -0.817106\n",
       "8kT5euU5zb  1.209106 -0.815250  0.837620  0.346454\n",
       "ng7MgrUcst -1.708337  2.280836  0.903916 -0.466756\n",
       "EfetHwaVQg -0.520978  0.233042 -0.089149 -0.452389"
      ]
     },
     "execution_count": 10,
     "metadata": {},
     "output_type": "execute_result"
    }
   ],
   "source": [
    "pd.util.testing.makeDataFrame().head()"
   ]
  },
  {
   "cell_type": "code",
   "execution_count": 11,
   "id": "98e0dfdc",
   "metadata": {},
   "outputs": [
    {
     "data": {
      "text/html": [
       "<div>\n",
       "<style scoped>\n",
       "    .dataframe tbody tr th:only-of-type {\n",
       "        vertical-align: middle;\n",
       "    }\n",
       "\n",
       "    .dataframe tbody tr th {\n",
       "        vertical-align: top;\n",
       "    }\n",
       "\n",
       "    .dataframe thead th {\n",
       "        text-align: right;\n",
       "    }\n",
       "</style>\n",
       "<table border=\"1\" class=\"dataframe\">\n",
       "  <thead>\n",
       "    <tr style=\"text-align: right;\">\n",
       "      <th></th>\n",
       "      <th>A</th>\n",
       "      <th>B</th>\n",
       "      <th>C</th>\n",
       "      <th>D</th>\n",
       "    </tr>\n",
       "  </thead>\n",
       "  <tbody>\n",
       "    <tr>\n",
       "      <th>0</th>\n",
       "      <td>0.0</td>\n",
       "      <td>0.0</td>\n",
       "      <td>foo1</td>\n",
       "      <td>2009-01-01</td>\n",
       "    </tr>\n",
       "    <tr>\n",
       "      <th>1</th>\n",
       "      <td>1.0</td>\n",
       "      <td>1.0</td>\n",
       "      <td>foo2</td>\n",
       "      <td>2009-01-02</td>\n",
       "    </tr>\n",
       "    <tr>\n",
       "      <th>2</th>\n",
       "      <td>2.0</td>\n",
       "      <td>0.0</td>\n",
       "      <td>foo3</td>\n",
       "      <td>2009-01-05</td>\n",
       "    </tr>\n",
       "    <tr>\n",
       "      <th>3</th>\n",
       "      <td>3.0</td>\n",
       "      <td>1.0</td>\n",
       "      <td>foo4</td>\n",
       "      <td>2009-01-06</td>\n",
       "    </tr>\n",
       "    <tr>\n",
       "      <th>4</th>\n",
       "      <td>4.0</td>\n",
       "      <td>0.0</td>\n",
       "      <td>foo5</td>\n",
       "      <td>2009-01-07</td>\n",
       "    </tr>\n",
       "  </tbody>\n",
       "</table>\n",
       "</div>"
      ],
      "text/plain": [
       "     A    B     C          D\n",
       "0  0.0  0.0  foo1 2009-01-01\n",
       "1  1.0  1.0  foo2 2009-01-02\n",
       "2  2.0  0.0  foo3 2009-01-05\n",
       "3  3.0  1.0  foo4 2009-01-06\n",
       "4  4.0  0.0  foo5 2009-01-07"
      ]
     },
     "execution_count": 11,
     "metadata": {},
     "output_type": "execute_result"
    }
   ],
   "source": [
    "pd.util.testing.makeMixedDataFrame().head()"
   ]
  },
  {
   "cell_type": "code",
   "execution_count": 12,
   "id": "6504892c",
   "metadata": {},
   "outputs": [
    {
     "data": {
      "text/html": [
       "<div>\n",
       "<style scoped>\n",
       "    .dataframe tbody tr th:only-of-type {\n",
       "        vertical-align: middle;\n",
       "    }\n",
       "\n",
       "    .dataframe tbody tr th {\n",
       "        vertical-align: top;\n",
       "    }\n",
       "\n",
       "    .dataframe thead th {\n",
       "        text-align: right;\n",
       "    }\n",
       "</style>\n",
       "<table border=\"1\" class=\"dataframe\">\n",
       "  <thead>\n",
       "    <tr style=\"text-align: right;\">\n",
       "      <th></th>\n",
       "      <th>A</th>\n",
       "      <th>B</th>\n",
       "      <th>C</th>\n",
       "      <th>D</th>\n",
       "    </tr>\n",
       "  </thead>\n",
       "  <tbody>\n",
       "    <tr>\n",
       "      <th>2000-01-03</th>\n",
       "      <td>0.774178</td>\n",
       "      <td>0.448570</td>\n",
       "      <td>-0.014064</td>\n",
       "      <td>-0.959360</td>\n",
       "    </tr>\n",
       "    <tr>\n",
       "      <th>2000-01-04</th>\n",
       "      <td>0.728085</td>\n",
       "      <td>1.308539</td>\n",
       "      <td>0.460078</td>\n",
       "      <td>-1.618593</td>\n",
       "    </tr>\n",
       "    <tr>\n",
       "      <th>2000-01-05</th>\n",
       "      <td>-0.587010</td>\n",
       "      <td>-2.200230</td>\n",
       "      <td>-2.221132</td>\n",
       "      <td>-0.086177</td>\n",
       "    </tr>\n",
       "    <tr>\n",
       "      <th>2000-01-06</th>\n",
       "      <td>-0.334074</td>\n",
       "      <td>0.498828</td>\n",
       "      <td>2.272277</td>\n",
       "      <td>-0.493774</td>\n",
       "    </tr>\n",
       "    <tr>\n",
       "      <th>2000-01-07</th>\n",
       "      <td>-0.949300</td>\n",
       "      <td>-0.168326</td>\n",
       "      <td>-0.458611</td>\n",
       "      <td>0.784215</td>\n",
       "    </tr>\n",
       "  </tbody>\n",
       "</table>\n",
       "</div>"
      ],
      "text/plain": [
       "                   A         B         C         D\n",
       "2000-01-03  0.774178  0.448570 -0.014064 -0.959360\n",
       "2000-01-04  0.728085  1.308539  0.460078 -1.618593\n",
       "2000-01-05 -0.587010 -2.200230 -2.221132 -0.086177\n",
       "2000-01-06 -0.334074  0.498828  2.272277 -0.493774\n",
       "2000-01-07 -0.949300 -0.168326 -0.458611  0.784215"
      ]
     },
     "execution_count": 12,
     "metadata": {},
     "output_type": "execute_result"
    }
   ],
   "source": [
    "pd.util.testing.makeTimeDataFrame().head()"
   ]
  },
  {
   "cell_type": "code",
   "execution_count": 14,
   "id": "2a25472e",
   "metadata": {},
   "outputs": [
    {
     "data": {
      "text/html": [
       "<div>\n",
       "<style scoped>\n",
       "    .dataframe tbody tr th:only-of-type {\n",
       "        vertical-align: middle;\n",
       "    }\n",
       "\n",
       "    .dataframe tbody tr th {\n",
       "        vertical-align: top;\n",
       "    }\n",
       "\n",
       "    .dataframe thead th {\n",
       "        text-align: right;\n",
       "    }\n",
       "</style>\n",
       "<table border=\"1\" class=\"dataframe\">\n",
       "  <thead>\n",
       "    <tr style=\"text-align: right;\">\n",
       "      <th></th>\n",
       "      <th>A</th>\n",
       "      <th>B</th>\n",
       "      <th>C</th>\n",
       "      <th>D</th>\n",
       "    </tr>\n",
       "  </thead>\n",
       "  <tbody>\n",
       "    <tr>\n",
       "      <th>Nt2ZFYkoM5</th>\n",
       "      <td>0.443599</td>\n",
       "      <td>-0.076879</td>\n",
       "      <td>1.022550</td>\n",
       "      <td>NaN</td>\n",
       "    </tr>\n",
       "    <tr>\n",
       "      <th>bZAg9qD7BB</th>\n",
       "      <td>1.837420</td>\n",
       "      <td>0.672912</td>\n",
       "      <td>NaN</td>\n",
       "      <td>-0.068567</td>\n",
       "    </tr>\n",
       "    <tr>\n",
       "      <th>iIvBoOVjns</th>\n",
       "      <td>0.568509</td>\n",
       "      <td>-0.384864</td>\n",
       "      <td>NaN</td>\n",
       "      <td>-1.542570</td>\n",
       "    </tr>\n",
       "    <tr>\n",
       "      <th>lmPg6MNpD4</th>\n",
       "      <td>-0.606521</td>\n",
       "      <td>-0.165666</td>\n",
       "      <td>2.460869</td>\n",
       "      <td>-0.667438</td>\n",
       "    </tr>\n",
       "    <tr>\n",
       "      <th>PNMAvmvT1X</th>\n",
       "      <td>1.196306</td>\n",
       "      <td>1.997234</td>\n",
       "      <td>-1.169068</td>\n",
       "      <td>-0.628732</td>\n",
       "    </tr>\n",
       "  </tbody>\n",
       "</table>\n",
       "</div>"
      ],
      "text/plain": [
       "                   A         B         C         D\n",
       "Nt2ZFYkoM5  0.443599 -0.076879  1.022550       NaN\n",
       "bZAg9qD7BB  1.837420  0.672912       NaN -0.068567\n",
       "iIvBoOVjns  0.568509 -0.384864       NaN -1.542570\n",
       "lmPg6MNpD4 -0.606521 -0.165666  2.460869 -0.667438\n",
       "PNMAvmvT1X  1.196306  1.997234 -1.169068 -0.628732"
      ]
     },
     "execution_count": 14,
     "metadata": {},
     "output_type": "execute_result"
    }
   ],
   "source": [
    "pd.util.testing.makeMissingDataframe().head()"
   ]
  },
  {
   "cell_type": "markdown",
   "id": "280b152c",
   "metadata": {},
   "source": [
    "#19: Formatting tampilan Data Frame"
   ]
  },
  {
   "cell_type": "code",
   "execution_count": 37,
   "id": "6c7beb61",
   "metadata": {},
   "outputs": [
    {
     "name": "stdout",
     "output_type": "stream",
     "text": [
      "1.3.4\n",
      "1.20.3\n"
     ]
    }
   ],
   "source": [
    "import pandas as pd\n",
    "import numpy as np\n",
    "\n",
    "print(pd.__version__)\n",
    "print(np.__version__)"
   ]
  },
  {
   "cell_type": "code",
   "execution_count": 38,
   "id": "e49bc9a3",
   "metadata": {},
   "outputs": [
    {
     "data": {
      "text/html": [
       "<div>\n",
       "<style scoped>\n",
       "    .dataframe tbody tr th:only-of-type {\n",
       "        vertical-align: middle;\n",
       "    }\n",
       "\n",
       "    .dataframe tbody tr th {\n",
       "        vertical-align: top;\n",
       "    }\n",
       "\n",
       "    .dataframe thead th {\n",
       "        text-align: right;\n",
       "    }\n",
       "</style>\n",
       "<table border=\"1\" class=\"dataframe\">\n",
       "  <thead>\n",
       "    <tr style=\"text-align: right;\">\n",
       "      <th></th>\n",
       "      <th>omset</th>\n",
       "      <th>operational</th>\n",
       "    </tr>\n",
       "  </thead>\n",
       "  <tbody>\n",
       "    <tr>\n",
       "      <th>0</th>\n",
       "      <td>6</td>\n",
       "      <td>17</td>\n",
       "    </tr>\n",
       "    <tr>\n",
       "      <th>1</th>\n",
       "      <td>1</td>\n",
       "      <td>2</td>\n",
       "    </tr>\n",
       "    <tr>\n",
       "      <th>2</th>\n",
       "      <td>6</td>\n",
       "      <td>9</td>\n",
       "    </tr>\n",
       "    <tr>\n",
       "      <th>3</th>\n",
       "      <td>5</td>\n",
       "      <td>4</td>\n",
       "    </tr>\n",
       "    <tr>\n",
       "      <th>4</th>\n",
       "      <td>18</td>\n",
       "      <td>3</td>\n",
       "    </tr>\n",
       "  </tbody>\n",
       "</table>\n",
       "</div>"
      ],
      "text/plain": [
       "   omset  operational\n",
       "0      6           17\n",
       "1      1            2\n",
       "2      6            9\n",
       "3      5            4\n",
       "4     18            3"
      ]
     },
     "execution_count": 38,
     "metadata": {},
     "output_type": "execute_result"
    }
   ],
   "source": [
    "n_rows = 5\n",
    "n_cols = 2\n",
    "cols = ['omset','operational']\n",
    "\n",
    "\n",
    "df =pd.DataFrame(np.random.randint(1,20, size=(n_rows, n_cols)),\n",
    "                columns=cols)\n",
    "df"
   ]
  },
  {
   "cell_type": "code",
   "execution_count": 39,
   "id": "bd03495e",
   "metadata": {},
   "outputs": [
    {
     "data": {
      "text/html": [
       "<div>\n",
       "<style scoped>\n",
       "    .dataframe tbody tr th:only-of-type {\n",
       "        vertical-align: middle;\n",
       "    }\n",
       "\n",
       "    .dataframe tbody tr th {\n",
       "        vertical-align: top;\n",
       "    }\n",
       "\n",
       "    .dataframe thead th {\n",
       "        text-align: right;\n",
       "    }\n",
       "</style>\n",
       "<table border=\"1\" class=\"dataframe\">\n",
       "  <thead>\n",
       "    <tr style=\"text-align: right;\">\n",
       "      <th></th>\n",
       "      <th>omset</th>\n",
       "      <th>operational</th>\n",
       "    </tr>\n",
       "  </thead>\n",
       "  <tbody>\n",
       "    <tr>\n",
       "      <th>0</th>\n",
       "      <td>600000</td>\n",
       "      <td>170000</td>\n",
       "    </tr>\n",
       "    <tr>\n",
       "      <th>1</th>\n",
       "      <td>100000</td>\n",
       "      <td>20000</td>\n",
       "    </tr>\n",
       "    <tr>\n",
       "      <th>2</th>\n",
       "      <td>600000</td>\n",
       "      <td>90000</td>\n",
       "    </tr>\n",
       "    <tr>\n",
       "      <th>3</th>\n",
       "      <td>500000</td>\n",
       "      <td>40000</td>\n",
       "    </tr>\n",
       "    <tr>\n",
       "      <th>4</th>\n",
       "      <td>1800000</td>\n",
       "      <td>30000</td>\n",
       "    </tr>\n",
       "  </tbody>\n",
       "</table>\n",
       "</div>"
      ],
      "text/plain": [
       "     omset  operational\n",
       "0   600000       170000\n",
       "1   100000        20000\n",
       "2   600000        90000\n",
       "3   500000        40000\n",
       "4  1800000        30000"
      ]
     },
     "execution_count": 39,
     "metadata": {},
     "output_type": "execute_result"
    }
   ],
   "source": [
    "df['omset'] =df['omset'] * 100_000\n",
    "df['operational'] =df['operational'] *10_000\n",
    "df"
   ]
  },
  {
   "cell_type": "code",
   "execution_count": 40,
   "id": "e29af302",
   "metadata": {},
   "outputs": [
    {
     "data": {
      "text/html": [
       "<div>\n",
       "<style scoped>\n",
       "    .dataframe tbody tr th:only-of-type {\n",
       "        vertical-align: middle;\n",
       "    }\n",
       "\n",
       "    .dataframe tbody tr th {\n",
       "        vertical-align: top;\n",
       "    }\n",
       "\n",
       "    .dataframe thead th {\n",
       "        text-align: right;\n",
       "    }\n",
       "</style>\n",
       "<table border=\"1\" class=\"dataframe\">\n",
       "  <thead>\n",
       "    <tr style=\"text-align: right;\">\n",
       "      <th></th>\n",
       "      <th>tanggal</th>\n",
       "      <th>omset</th>\n",
       "      <th>operational</th>\n",
       "    </tr>\n",
       "  </thead>\n",
       "  <tbody>\n",
       "    <tr>\n",
       "      <th>0</th>\n",
       "      <td>2000-01-01</td>\n",
       "      <td>600000</td>\n",
       "      <td>170000</td>\n",
       "    </tr>\n",
       "    <tr>\n",
       "      <th>1</th>\n",
       "      <td>2000-01-02</td>\n",
       "      <td>100000</td>\n",
       "      <td>20000</td>\n",
       "    </tr>\n",
       "    <tr>\n",
       "      <th>2</th>\n",
       "      <td>2000-01-03</td>\n",
       "      <td>600000</td>\n",
       "      <td>90000</td>\n",
       "    </tr>\n",
       "    <tr>\n",
       "      <th>3</th>\n",
       "      <td>2000-01-04</td>\n",
       "      <td>500000</td>\n",
       "      <td>40000</td>\n",
       "    </tr>\n",
       "    <tr>\n",
       "      <th>4</th>\n",
       "      <td>2000-01-05</td>\n",
       "      <td>1800000</td>\n",
       "      <td>30000</td>\n",
       "    </tr>\n",
       "  </tbody>\n",
       "</table>\n",
       "</div>"
      ],
      "text/plain": [
       "     tanggal    omset  operational\n",
       "0 2000-01-01   600000       170000\n",
       "1 2000-01-02   100000        20000\n",
       "2 2000-01-03   600000        90000\n",
       "3 2000-01-04   500000        40000\n",
       "4 2000-01-05  1800000        30000"
      ]
     },
     "execution_count": 40,
     "metadata": {},
     "output_type": "execute_result"
    }
   ],
   "source": [
    "df.index =pd.util.testing.makeDateIndex(n_rows, freq='D')\n",
    "df = df.reset_index()\n",
    "df = df.rename(columns={'index':'tanggal'})\n",
    "df"
   ]
  },
  {
   "cell_type": "markdown",
   "id": "ec938e12",
   "metadata": {},
   "source": [
    "Melakukan formatting tampilan Data Frame"
   ]
  },
  {
   "cell_type": "code",
   "execution_count": 41,
   "id": "b5768584",
   "metadata": {},
   "outputs": [
    {
     "data": {
      "text/html": [
       "<style type=\"text/css\">\n",
       "</style>\n",
       "<table id=\"T_0608a_\">\n",
       "  <thead>\n",
       "    <tr>\n",
       "      <th class=\"blank level0\" >&nbsp;</th>\n",
       "      <th class=\"col_heading level0 col0\" >tanggal</th>\n",
       "      <th class=\"col_heading level0 col1\" >omset</th>\n",
       "      <th class=\"col_heading level0 col2\" >operational</th>\n",
       "    </tr>\n",
       "  </thead>\n",
       "  <tbody>\n",
       "    <tr>\n",
       "      <th id=\"T_0608a_level0_row0\" class=\"row_heading level0 row0\" >0</th>\n",
       "      <td id=\"T_0608a_row0_col0\" class=\"data row0 col0\" >01/01/00</td>\n",
       "      <td id=\"T_0608a_row0_col1\" class=\"data row0 col1\" >rp 600000.00</td>\n",
       "      <td id=\"T_0608a_row0_col2\" class=\"data row0 col2\" >rp 170000.00</td>\n",
       "    </tr>\n",
       "    <tr>\n",
       "      <th id=\"T_0608a_level0_row1\" class=\"row_heading level0 row1\" >1</th>\n",
       "      <td id=\"T_0608a_row1_col0\" class=\"data row1 col0\" >02/01/00</td>\n",
       "      <td id=\"T_0608a_row1_col1\" class=\"data row1 col1\" >rp 100000.00</td>\n",
       "      <td id=\"T_0608a_row1_col2\" class=\"data row1 col2\" >rp 20000.00</td>\n",
       "    </tr>\n",
       "    <tr>\n",
       "      <th id=\"T_0608a_level0_row2\" class=\"row_heading level0 row2\" >2</th>\n",
       "      <td id=\"T_0608a_row2_col0\" class=\"data row2 col0\" >03/01/00</td>\n",
       "      <td id=\"T_0608a_row2_col1\" class=\"data row2 col1\" >rp 600000.00</td>\n",
       "      <td id=\"T_0608a_row2_col2\" class=\"data row2 col2\" >rp 90000.00</td>\n",
       "    </tr>\n",
       "    <tr>\n",
       "      <th id=\"T_0608a_level0_row3\" class=\"row_heading level0 row3\" >3</th>\n",
       "      <td id=\"T_0608a_row3_col0\" class=\"data row3 col0\" >04/01/00</td>\n",
       "      <td id=\"T_0608a_row3_col1\" class=\"data row3 col1\" >rp 500000.00</td>\n",
       "      <td id=\"T_0608a_row3_col2\" class=\"data row3 col2\" >rp 40000.00</td>\n",
       "    </tr>\n",
       "    <tr>\n",
       "      <th id=\"T_0608a_level0_row4\" class=\"row_heading level0 row4\" >4</th>\n",
       "      <td id=\"T_0608a_row4_col0\" class=\"data row4 col0\" >05/01/00</td>\n",
       "      <td id=\"T_0608a_row4_col1\" class=\"data row4 col1\" >rp 1800000.00</td>\n",
       "      <td id=\"T_0608a_row4_col2\" class=\"data row4 col2\" >rp 30000.00</td>\n",
       "    </tr>\n",
       "  </tbody>\n",
       "</table>\n"
      ],
      "text/plain": [
       "<pandas.io.formats.style.Styler at 0x2297d18c940>"
      ]
     },
     "execution_count": 41,
     "metadata": {},
     "output_type": "execute_result"
    }
   ],
   "source": [
    "formatku = {'tanggal':'{:%d/%m/%y}',\n",
    "           'operational':'rp {:.2f}',\n",
    "           'omset':'rp {:.2f}'}\n",
    "laporan = df.style.format(formatku)\n",
    "laporan"
   ]
  },
  {
   "cell_type": "code",
   "execution_count": 42,
   "id": "01ce2a7f",
   "metadata": {},
   "outputs": [
    {
     "data": {
      "text/plain": [
       "pandas.io.formats.style.Styler"
      ]
     },
     "execution_count": 42,
     "metadata": {},
     "output_type": "execute_result"
    }
   ],
   "source": [
    "type(laporan)"
   ]
  },
  {
   "cell_type": "code",
   "execution_count": 43,
   "id": "bbf1487d",
   "metadata": {},
   "outputs": [
    {
     "data": {
      "text/html": [
       "<style type=\"text/css\">\n",
       "</style>\n",
       "<table id=\"T_0608a_\">\n",
       "  <thead>\n",
       "    <tr>\n",
       "      <th class=\"col_heading level0 col0\" >tanggal</th>\n",
       "      <th class=\"col_heading level0 col1\" >omset</th>\n",
       "      <th class=\"col_heading level0 col2\" >operational</th>\n",
       "    </tr>\n",
       "  </thead>\n",
       "  <tbody>\n",
       "    <tr>\n",
       "      <td id=\"T_0608a_row0_col0\" class=\"data row0 col0\" >01/01/00</td>\n",
       "      <td id=\"T_0608a_row0_col1\" class=\"data row0 col1\" >rp 600000.00</td>\n",
       "      <td id=\"T_0608a_row0_col2\" class=\"data row0 col2\" >rp 170000.00</td>\n",
       "    </tr>\n",
       "    <tr>\n",
       "      <td id=\"T_0608a_row1_col0\" class=\"data row1 col0\" >02/01/00</td>\n",
       "      <td id=\"T_0608a_row1_col1\" class=\"data row1 col1\" >rp 100000.00</td>\n",
       "      <td id=\"T_0608a_row1_col2\" class=\"data row1 col2\" >rp 20000.00</td>\n",
       "    </tr>\n",
       "    <tr>\n",
       "      <td id=\"T_0608a_row2_col0\" class=\"data row2 col0\" >03/01/00</td>\n",
       "      <td id=\"T_0608a_row2_col1\" class=\"data row2 col1\" >rp 600000.00</td>\n",
       "      <td id=\"T_0608a_row2_col2\" class=\"data row2 col2\" >rp 90000.00</td>\n",
       "    </tr>\n",
       "    <tr>\n",
       "      <td id=\"T_0608a_row3_col0\" class=\"data row3 col0\" >04/01/00</td>\n",
       "      <td id=\"T_0608a_row3_col1\" class=\"data row3 col1\" >rp 500000.00</td>\n",
       "      <td id=\"T_0608a_row3_col2\" class=\"data row3 col2\" >rp 40000.00</td>\n",
       "    </tr>\n",
       "    <tr>\n",
       "      <td id=\"T_0608a_row4_col0\" class=\"data row4 col0\" >05/01/00</td>\n",
       "      <td id=\"T_0608a_row4_col1\" class=\"data row4 col1\" >rp 1800000.00</td>\n",
       "      <td id=\"T_0608a_row4_col2\" class=\"data row4 col2\" >rp 30000.00</td>\n",
       "    </tr>\n",
       "  </tbody>\n",
       "</table>\n"
      ],
      "text/plain": [
       "<pandas.io.formats.style.Styler at 0x2297d18c940>"
      ]
     },
     "execution_count": 43,
     "metadata": {},
     "output_type": "execute_result"
    }
   ],
   "source": [
    "laporan.hide_index()"
   ]
  },
  {
   "cell_type": "code",
   "execution_count": 46,
   "id": "ee0cbb5c",
   "metadata": {},
   "outputs": [
    {
     "data": {
      "text/html": [
       "<style type=\"text/css\">\n",
       "</style>\n",
       "<table id=\"T_0608a_\">\n",
       "  <caption>Data omset  dan operational</caption>\n",
       "  <thead>\n",
       "    <tr>\n",
       "      <th class=\"col_heading level0 col0\" >tanggal</th>\n",
       "      <th class=\"col_heading level0 col1\" >omset</th>\n",
       "      <th class=\"col_heading level0 col2\" >operational</th>\n",
       "    </tr>\n",
       "  </thead>\n",
       "  <tbody>\n",
       "    <tr>\n",
       "      <td id=\"T_0608a_row0_col0\" class=\"data row0 col0\" >01/01/00</td>\n",
       "      <td id=\"T_0608a_row0_col1\" class=\"data row0 col1\" >rp 600000.00</td>\n",
       "      <td id=\"T_0608a_row0_col2\" class=\"data row0 col2\" >rp 170000.00</td>\n",
       "    </tr>\n",
       "    <tr>\n",
       "      <td id=\"T_0608a_row1_col0\" class=\"data row1 col0\" >02/01/00</td>\n",
       "      <td id=\"T_0608a_row1_col1\" class=\"data row1 col1\" >rp 100000.00</td>\n",
       "      <td id=\"T_0608a_row1_col2\" class=\"data row1 col2\" >rp 20000.00</td>\n",
       "    </tr>\n",
       "    <tr>\n",
       "      <td id=\"T_0608a_row2_col0\" class=\"data row2 col0\" >03/01/00</td>\n",
       "      <td id=\"T_0608a_row2_col1\" class=\"data row2 col1\" >rp 600000.00</td>\n",
       "      <td id=\"T_0608a_row2_col2\" class=\"data row2 col2\" >rp 90000.00</td>\n",
       "    </tr>\n",
       "    <tr>\n",
       "      <td id=\"T_0608a_row3_col0\" class=\"data row3 col0\" >04/01/00</td>\n",
       "      <td id=\"T_0608a_row3_col1\" class=\"data row3 col1\" >rp 500000.00</td>\n",
       "      <td id=\"T_0608a_row3_col2\" class=\"data row3 col2\" >rp 40000.00</td>\n",
       "    </tr>\n",
       "    <tr>\n",
       "      <td id=\"T_0608a_row4_col0\" class=\"data row4 col0\" >05/01/00</td>\n",
       "      <td id=\"T_0608a_row4_col1\" class=\"data row4 col1\" >rp 1800000.00</td>\n",
       "      <td id=\"T_0608a_row4_col2\" class=\"data row4 col2\" >rp 30000.00</td>\n",
       "    </tr>\n",
       "  </tbody>\n",
       "</table>\n"
      ],
      "text/plain": [
       "<pandas.io.formats.style.Styler at 0x2297d18c940>"
      ]
     },
     "execution_count": 46,
     "metadata": {},
     "output_type": "execute_result"
    }
   ],
   "source": [
    "laporan.set_caption('Data omset  dan operational')"
   ]
  },
  {
   "cell_type": "code",
   "execution_count": 47,
   "id": "860a8ec5",
   "metadata": {},
   "outputs": [
    {
     "data": {
      "text/html": [
       "<style type=\"text/css\">\n",
       "#T_0608a_row0_col2 {\n",
       "  background-color: grey;\n",
       "}\n",
       "#T_0608a_row1_col1 {\n",
       "  background-color: pink;\n",
       "}\n",
       "#T_0608a_row1_col2 {\n",
       "  background-color: lightblue;\n",
       "}\n",
       "#T_0608a_row4_col1 {\n",
       "  background-color: lightgreen;\n",
       "}\n",
       "</style>\n",
       "<table id=\"T_0608a_\">\n",
       "  <caption>Data omset  dan operational</caption>\n",
       "  <thead>\n",
       "    <tr>\n",
       "      <th class=\"col_heading level0 col0\" >tanggal</th>\n",
       "      <th class=\"col_heading level0 col1\" >omset</th>\n",
       "      <th class=\"col_heading level0 col2\" >operational</th>\n",
       "    </tr>\n",
       "  </thead>\n",
       "  <tbody>\n",
       "    <tr>\n",
       "      <td id=\"T_0608a_row0_col0\" class=\"data row0 col0\" >01/01/00</td>\n",
       "      <td id=\"T_0608a_row0_col1\" class=\"data row0 col1\" >rp 600000.00</td>\n",
       "      <td id=\"T_0608a_row0_col2\" class=\"data row0 col2\" >rp 170000.00</td>\n",
       "    </tr>\n",
       "    <tr>\n",
       "      <td id=\"T_0608a_row1_col0\" class=\"data row1 col0\" >02/01/00</td>\n",
       "      <td id=\"T_0608a_row1_col1\" class=\"data row1 col1\" >rp 100000.00</td>\n",
       "      <td id=\"T_0608a_row1_col2\" class=\"data row1 col2\" >rp 20000.00</td>\n",
       "    </tr>\n",
       "    <tr>\n",
       "      <td id=\"T_0608a_row2_col0\" class=\"data row2 col0\" >03/01/00</td>\n",
       "      <td id=\"T_0608a_row2_col1\" class=\"data row2 col1\" >rp 600000.00</td>\n",
       "      <td id=\"T_0608a_row2_col2\" class=\"data row2 col2\" >rp 90000.00</td>\n",
       "    </tr>\n",
       "    <tr>\n",
       "      <td id=\"T_0608a_row3_col0\" class=\"data row3 col0\" >04/01/00</td>\n",
       "      <td id=\"T_0608a_row3_col1\" class=\"data row3 col1\" >rp 500000.00</td>\n",
       "      <td id=\"T_0608a_row3_col2\" class=\"data row3 col2\" >rp 40000.00</td>\n",
       "    </tr>\n",
       "    <tr>\n",
       "      <td id=\"T_0608a_row4_col0\" class=\"data row4 col0\" >05/01/00</td>\n",
       "      <td id=\"T_0608a_row4_col1\" class=\"data row4 col1\" >rp 1800000.00</td>\n",
       "      <td id=\"T_0608a_row4_col2\" class=\"data row4 col2\" >rp 30000.00</td>\n",
       "    </tr>\n",
       "  </tbody>\n",
       "</table>\n"
      ],
      "text/plain": [
       "<pandas.io.formats.style.Styler at 0x2297d18c940>"
      ]
     },
     "execution_count": 47,
     "metadata": {},
     "output_type": "execute_result"
    }
   ],
   "source": [
    "laporan.highlight_min('omset', color='pink')\n",
    "laporan.highlight_max('omset', color='lightgreen')\n",
    "\n",
    "laporan.highlight_min('operational', color='lightblue')\n",
    "laporan.highlight_max('operational', color='grey')\n"
   ]
  },
  {
   "cell_type": "markdown",
   "id": "f19ae8d6",
   "metadata": {},
   "source": [
    "#20 Menggabungkan(merge) dua Data Frame secara berdampingan"
   ]
  },
  {
   "cell_type": "code",
   "execution_count": 48,
   "id": "8845fcd2",
   "metadata": {},
   "outputs": [
    {
     "name": "stdout",
     "output_type": "stream",
     "text": [
      "1.3.4\n"
     ]
    }
   ],
   "source": [
    "import pandas as pd\n",
    "print(pd.__version__)"
   ]
  },
  {
   "cell_type": "markdown",
   "id": "3779ba4d",
   "metadata": {},
   "source": [
    "Persiapan Data Frame"
   ]
  },
  {
   "cell_type": "code",
   "execution_count": 49,
   "id": "9b337704",
   "metadata": {},
   "outputs": [
    {
     "data": {
      "text/html": [
       "<div>\n",
       "<style scoped>\n",
       "    .dataframe tbody tr th:only-of-type {\n",
       "        vertical-align: middle;\n",
       "    }\n",
       "\n",
       "    .dataframe tbody tr th {\n",
       "        vertical-align: top;\n",
       "    }\n",
       "\n",
       "    .dataframe thead th {\n",
       "        text-align: right;\n",
       "    }\n",
       "</style>\n",
       "<table border=\"1\" class=\"dataframe\">\n",
       "  <thead>\n",
       "    <tr style=\"text-align: right;\">\n",
       "      <th></th>\n",
       "      <th>col1</th>\n",
       "      <th>col2</th>\n",
       "    </tr>\n",
       "  </thead>\n",
       "  <tbody>\n",
       "    <tr>\n",
       "      <th>0</th>\n",
       "      <td>1</td>\n",
       "      <td>10</td>\n",
       "    </tr>\n",
       "    <tr>\n",
       "      <th>1</th>\n",
       "      <td>2</td>\n",
       "      <td>20</td>\n",
       "    </tr>\n",
       "    <tr>\n",
       "      <th>2</th>\n",
       "      <td>3</td>\n",
       "      <td>30</td>\n",
       "    </tr>\n",
       "  </tbody>\n",
       "</table>\n",
       "</div>"
      ],
      "text/plain": [
       "   col1  col2\n",
       "0     1    10\n",
       "1     2    20\n",
       "2     3    30"
      ]
     },
     "execution_count": 49,
     "metadata": {},
     "output_type": "execute_result"
    }
   ],
   "source": [
    "d1 = ({'col1': [1,2,3],\n",
    "            'col2' :[10,20,30]})\n",
    "df1 = pd.DataFrame(d1)\n",
    "df1"
   ]
  },
  {
   "cell_type": "code",
   "execution_count": 50,
   "id": "ce8f187e",
   "metadata": {},
   "outputs": [
    {
     "data": {
      "text/html": [
       "<div>\n",
       "<style scoped>\n",
       "    .dataframe tbody tr th:only-of-type {\n",
       "        vertical-align: middle;\n",
       "    }\n",
       "\n",
       "    .dataframe tbody tr th {\n",
       "        vertical-align: top;\n",
       "    }\n",
       "\n",
       "    .dataframe thead th {\n",
       "        text-align: right;\n",
       "    }\n",
       "</style>\n",
       "<table border=\"1\" class=\"dataframe\">\n",
       "  <thead>\n",
       "    <tr style=\"text-align: right;\">\n",
       "      <th></th>\n",
       "      <th>col1</th>\n",
       "      <th>col2</th>\n",
       "    </tr>\n",
       "  </thead>\n",
       "  <tbody>\n",
       "    <tr>\n",
       "      <th>0</th>\n",
       "      <td>4</td>\n",
       "      <td>40</td>\n",
       "    </tr>\n",
       "    <tr>\n",
       "      <th>1</th>\n",
       "      <td>5</td>\n",
       "      <td>50</td>\n",
       "    </tr>\n",
       "    <tr>\n",
       "      <th>2</th>\n",
       "      <td>6</td>\n",
       "      <td>60</td>\n",
       "    </tr>\n",
       "  </tbody>\n",
       "</table>\n",
       "</div>"
      ],
      "text/plain": [
       "   col1  col2\n",
       "0     4    40\n",
       "1     5    50\n",
       "2     6    60"
      ]
     },
     "execution_count": 50,
     "metadata": {},
     "output_type": "execute_result"
    }
   ],
   "source": [
    "d2 = ({'col1': [4,5,6],\n",
    "            'col2' :[40,50,60]})\n",
    "df2 = pd.DataFrame(d2)\n",
    "df2"
   ]
  },
  {
   "cell_type": "markdown",
   "id": "2c41b20c",
   "metadata": {},
   "source": [
    "Menggabungkan (Merge ) dua data frame yang kita sudah buat sebelumnya secara berdampingan"
   ]
  },
  {
   "cell_type": "code",
   "execution_count": 51,
   "id": "7d85fc41",
   "metadata": {},
   "outputs": [
    {
     "data": {
      "text/html": [
       "<div>\n",
       "<style scoped>\n",
       "    .dataframe tbody tr th:only-of-type {\n",
       "        vertical-align: middle;\n",
       "    }\n",
       "\n",
       "    .dataframe tbody tr th {\n",
       "        vertical-align: top;\n",
       "    }\n",
       "\n",
       "    .dataframe thead th {\n",
       "        text-align: right;\n",
       "    }\n",
       "</style>\n",
       "<table border=\"1\" class=\"dataframe\">\n",
       "  <thead>\n",
       "    <tr style=\"text-align: right;\">\n",
       "      <th></th>\n",
       "      <th>col1_x</th>\n",
       "      <th>col2_x</th>\n",
       "      <th>col1_y</th>\n",
       "      <th>col2_y</th>\n",
       "    </tr>\n",
       "  </thead>\n",
       "  <tbody>\n",
       "    <tr>\n",
       "      <th>0</th>\n",
       "      <td>1</td>\n",
       "      <td>10</td>\n",
       "      <td>4</td>\n",
       "      <td>40</td>\n",
       "    </tr>\n",
       "    <tr>\n",
       "      <th>1</th>\n",
       "      <td>2</td>\n",
       "      <td>20</td>\n",
       "      <td>5</td>\n",
       "      <td>50</td>\n",
       "    </tr>\n",
       "    <tr>\n",
       "      <th>2</th>\n",
       "      <td>3</td>\n",
       "      <td>30</td>\n",
       "      <td>6</td>\n",
       "      <td>60</td>\n",
       "    </tr>\n",
       "  </tbody>\n",
       "</table>\n",
       "</div>"
      ],
      "text/plain": [
       "   col1_x  col2_x  col1_y  col2_y\n",
       "0       1      10       4      40\n",
       "1       2      20       5      50\n",
       "2       3      30       6      60"
      ]
     },
     "execution_count": 51,
     "metadata": {},
     "output_type": "execute_result"
    }
   ],
   "source": [
    "df = pd.merge(df1,df2, left_index=True, right_index=True)\n",
    "df"
   ]
  },
  {
   "cell_type": "code",
   "execution_count": null,
   "id": "247d9b33",
   "metadata": {},
   "outputs": [],
   "source": []
  }
 ],
 "metadata": {
  "kernelspec": {
   "display_name": "Python 3 (ipykernel)",
   "language": "python",
   "name": "python3"
  },
  "language_info": {
   "codemirror_mode": {
    "name": "ipython",
    "version": 3
   },
   "file_extension": ".py",
   "mimetype": "text/x-python",
   "name": "python",
   "nbconvert_exporter": "python",
   "pygments_lexer": "ipython3",
   "version": "3.9.7"
  }
 },
 "nbformat": 4,
 "nbformat_minor": 5
}
